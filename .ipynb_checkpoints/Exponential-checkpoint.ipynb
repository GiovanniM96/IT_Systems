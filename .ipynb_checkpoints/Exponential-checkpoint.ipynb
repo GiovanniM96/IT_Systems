{
 "cells": [
  {
   "cell_type": "markdown",
   "id": "3944b93f-dce0-4073-ac22-1f7b419ce90d",
   "metadata": {},
   "source": [
    "# Exponential"
   ]
  },
  {
   "cell_type": "markdown",
   "id": "c27bb10a-e905-4650-9ada-d1ad15a03f58",
   "metadata": {},
   "source": [
    "## Previsione del tempo di consegna di due fornitori differenti"
   ]
  },
  {
   "cell_type": "markdown",
   "id": "93781024-03e8-4fee-91b5-85696b7f15b6",
   "metadata": {},
   "source": [
    "Supponiamo che i tempi di consegna dei fornitori X e Y siano modellati come variabili aleatorie esponenziali con parametro λ. La variabile Z rappresenta il tempo totale di consegna, ovvero la somma dei tempi di consegna di entrambi i fornitori. La funzione di densità di Z può essere calcolata come segue:"
   ]
  },
  {
   "cell_type": "code",
   "execution_count": 4,
   "id": "591a91f8-06a1-42d0-884f-67b46b1bef36",
   "metadata": {},
   "outputs": [
    {
     "data": {
      "image/png": "[encoded data removed]",
      "text/plain": [
       "<Figure size 432x288 with 1 Axes>"
      ]
     },
     "metadata": {
      "needs_background": "light"
     },
     "output_type": "display_data"
    }
   ],
   "source": [
    "import numpy as np\n",
    "import matplotlib.pyplot as plt\n",
    "\n",
    "λ = 0.5 # parametro\n",
    "x = np.linspace(0, 10, 1000)\n",
    "y = λ * np.exp(-λ * x)\n",
    "z = λ * np.exp(-λ * (x - y))\n",
    "\n",
    "plt.plot(x, z)\n",
    "plt.xlabel('Tempo di consegna')\n",
    "plt.ylabel('Funzione di densità')\n",
    "plt.title('Funzione di densità di Z = X + Y')\n",
    "plt.show()"
   ]
  },
  {
   "cell_type": "markdown",
   "id": "182cbde7-0b2a-4e07-8b85-666f4065019c",
   "metadata": {},
   "source": [
    "Per trovare λ tale che E(3X−2Y)=Var(3X−2Y), possiamo utilizzare la formula per la varianza di una somma di variabili aleatorie indipendenti:"
   ]
  },
  {
   "cell_type": "code",
   "execution_count": 5,
   "id": "3e866c10-0481-409a-b8cd-e2189a06bf32",
   "metadata": {},
   "outputs": [],
   "source": [
    "E_x = 1 / λ\n",
    "E_y = 1 / λ\n",
    "E_z = E_x + E_y\n",
    "\n",
    "Var_x = 1 / λ**2\n",
    "Var_y = 1 / λ**2\n",
    "Var_z = Var_x + Var_y\n",
    "\n",
    "E_3x_minus_2y = 3 * E_x - 2 * E_y\n",
    "Var_3x_minus_2y = 9 * Var_x + 4 * Var_y\n",
    "\n",
    "if E_3x_minus_2y == Var_3x_minus_2y:\n",
    "  print('E(3X−2Y) = Var(3X−2Y) per λ =', λ)"
   ]
  },
  {
   "cell_type": "markdown",
   "id": "6bb61069-23f9-40cf-a5c5-9fdf1468630a",
   "metadata": {},
   "source": [
    "Nel caso di business della previsione del tempo di consegna, questo modello ci permette di prevedere il tempo totale di consegna dei due fornitori e di determinare il valore di λ che soddisfa la relazione tra aspettativa e varianza. Questo può essere utile per prendere decisioni sulle scorte e sui tempi di consegna, ad esempio per garantire la disponibilità di prodotto per i clienti."
   ]
  },
  {
   "cell_type": "markdown",
   "id": "32898a0c-8e9c-4735-8e34-e5929ca96dc0",
   "metadata": {},
   "source": [
    "## Esempio 2"
   ]
  },
  {
   "cell_type": "code",
   "execution_count": 2,
   "id": "0f5f8b0d-4d2b-4e0f-950e-e7c844eac96a",
   "metadata": {},
   "outputs": [
    {
     "name": "stdout",
     "output_type": "stream",
     "text": [
      "La durata media del materiale è di 6.085599429322064 mesi\n"
     ]
    }
   ],
   "source": [
    "import numpy as np\n",
    "from scipy.stats import expon\n",
    "\n",
    "def predict_life_time(mean, num_samples):\n",
    "    # Generiamo num_samples campioni dalla distribuzione esponenziale con media mean\n",
    "    samples = np.random.exponential(mean, num_samples)\n",
    "\n",
    "    # Restituiamo la durata media del materiale\n",
    "    return np.mean(samples)\n",
    "\n",
    "# Prevediamo la durata media del materiale con una media di 6 mesi e 10000 campioni\n",
    "mean_life_time = predict_life_time(6, 10000)\n",
    "\n",
    "print(\"La durata media del materiale è di {} mesi\".format(mean_life_time))\n"
   ]
  },
  {
   "cell_type": "markdown",
   "id": "28c95072-b930-4459-b5ac-125e123d2b30",
   "metadata": {},
   "source": [
    "Il codice utilizza la funzione np.random.exponential di Numpy per generare una serie di campioni dalla distribuzione esponenziale. La media dei campioni viene quindi calcolata e restituita come previsione della durata media del materiale chimico."
   ]
  },
  {
   "cell_type": "code",
   "execution_count": null,
   "id": "18d623a4-77b8-4cb0-8fb8-f7546c58ab78",
   "metadata": {},
   "outputs": [],
   "source": []
  }
 ],
 "metadata": {
  "kernelspec": {
   "display_name": "Python 3 (ipykernel)",
   "language": "python",
   "name": "python3"
  },
  "language_info": {
   "codemirror_mode": {
    "name": "ipython",
    "version": 3
   },
   "file_extension": ".py",
   "mimetype": "text/x-python",
   "name": "python",
   "nbconvert_exporter": "python",
   "pygments_lexer": "ipython3",
   "version": "3.9.7"
  }
 },
 "nbformat": 4,
 "nbformat_minor": 5
}
