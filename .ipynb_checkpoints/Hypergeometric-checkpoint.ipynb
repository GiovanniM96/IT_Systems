{
 "cells": [
  {
   "cell_type": "code",
   "execution_count": 3,
   "id": "813ce450-c286-4b3d-ad74-7430dd7d401d",
   "metadata": {},
   "outputs": [
    {
     "name": "stdout",
     "output_type": "stream",
     "text": [
      "0.021531469960251876\n"
     ]
    }
   ],
   "source": [
    "from scipy.stats import hypergeom\n",
    "\n",
    "N = 100  # numero candidati per un lavoro\n",
    "m = 20  # numero candidati che hanno le competenze richieste per il lavoro\n",
    "n = 10  # numero candidati per intervistarli\n",
    "k = 5  # numero candidati con le competenze\n",
    "\n",
    "#Ad esempio, la probabilità di selezionare esattamente 5 candidati con le competenze richieste sarebbe data da:\n",
    "prob = hypergeom.pmf(k, N, m, n)\n",
    "print(prob)"
   ]
  }
 ],
 "metadata": {
  "kernelspec": {
   "display_name": "Python 3 (ipykernel)",
   "language": "python",
   "name": "python3"
  },
  "language_info": {
   "codemirror_mode": {
    "name": "ipython",
    "version": 3
   },
   "file_extension": ".py",
   "mimetype": "text/x-python",
   "name": "python",
   "nbconvert_exporter": "python",
   "pygments_lexer": "ipython3",
   "version": "3.9.7"
  }
 },
 "nbformat": 4,
 "nbformat_minor": 5
}
