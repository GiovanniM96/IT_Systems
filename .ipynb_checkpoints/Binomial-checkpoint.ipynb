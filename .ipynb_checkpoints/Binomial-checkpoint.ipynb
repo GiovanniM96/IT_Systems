{
 "cells": [
  {
   "cell_type": "markdown",
   "id": "16e65fbf-cef9-4911-b5c5-d05e9c037abb",
   "metadata": {},
   "source": [
    "# Binomial"
   ]
  },
  {
   "cell_type": "markdown",
   "id": "61c23c48-015e-4706-a698-9c91604fb8a9",
   "metadata": {},
   "source": [
    "In questo esempio, consideriamo che ci siano 100 clienti totali, di cui 50 fanno parte del gruppo A e 50 del gruppo B. Supponiamo inoltre che il 10% dei clienti del gruppo A effettui un acquisto e il 12% dei clienti del gruppo B effettui un acquisto.\n",
    "Il coefficiente binomiale ci permette di calcolare la probabilità che entrambi gli eventi (10 acquisti al gruppo A e 12 acquisti al gruppo B) accadano contemporaneamente. Questo può essere utile per il business per capire la probabilità di vendere un determinato numero di prodotti ai due gruppi di clienti e pianificare di conseguenza la produzione.\n",
    "\n",
    "Questo è un esempio di codice che utilizza il coefficiente binomiale in Python:"
   ]
  },
  {
   "cell_type": "code",
   "execution_count": 4,
   "id": "a4bf252c-d9a8-4db9-b1c0-cafce6af5a0b",
   "metadata": {
    "tags": []
   },
   "outputs": [
    {
     "name": "stdout",
     "output_type": "stream",
     "text": [
      "La probabilità che entrambi gli eventi accadano contemporaneamente è: 0.00012767359340433123\n"
     ]
    }
   ],
   "source": [
    "import math\n",
    "\n",
    "def binomial_coefficient(n, k):\n",
    "    return math.factorial(n) / (math.factorial(k) * math.factorial(n - k))\n",
    "\n",
    "group_A_customers = 50\n",
    "group_B_customers = 50\n",
    "p_A = 0.1\n",
    "p_B = 0.12\n",
    "\n",
    "# Calcoliamo la probabilità di 10 acquisti al gruppo A e 12 acquisti al gruppo B\n",
    "prob = binomial_coefficient(group_A_customers, 10) * (p_A ** 10) * (1 - p_A) ** (group_A_customers - 10) * binomial_coefficient(group_B_customers, 12) * (p_B ** 12) * (1 - p_B) ** (group_B_customers - 12)\n",
    "\n",
    "print(\"La probabilità che entrambi gli eventi accadano contemporaneamente è:\", prob)\n"
   ]
  },
  {
   "cell_type": "markdown",
   "id": "f1ea65b9-37f3-4625-a851-2cd1af81961f",
   "metadata": {},
   "source": [
    "## Effetto combinato dei tassi di conversione sul numero totale di acquisti"
   ]
  },
  {
   "cell_type": "markdown",
   "id": "63682ea2-468a-4bc4-b378-aff5bbe8a279",
   "metadata": {},
   "source": [
    "Ecco un esempio di utilizzo del coefficiente binomiale in un contesto di business.\n",
    "\n",
    "Supponiamo che un'azienda abbia un tasso di conversione del 10% sul proprio sito web, ovvero che su 100 visitatori al sito, 10 effettuino un acquisto. L'obiettivo dell'azienda è quello di aumentare il tasso di conversione a 12%.\n",
    "\n",
    "Per verificare se il nuovo tasso di conversione è effettivamente migliorato, l'azienda effettua un test A/B sul proprio sito web. Il gruppo di controllo (gruppo A) riceve la vecchia versione del sito, mentre il gruppo sperimentale (gruppo B) riceve la nuova versione.\n",
    "\n",
    "Dopo il test, l'azienda conta che su 100 visitatori al gruppo A, 10 effettuano un acquisto, mentre su 100 visitatori al gruppo B, 12 effettuano un acquisto.\n",
    "\n",
    "Vogliamo ora calcolare la probabilità che una differenza così significativa sia solo frutto del caso, ovvero che la differenza tra i due tassi di conversione non sia statisticamente significativa.\n",
    "\n",
    "Possiamo farlo utilizzando il coefficiente binomiale."
   ]
  },
  {
   "cell_type": "code",
   "execution_count": 5,
   "id": "c19f6522-fc56-4286-bdbe-0f9d30b7d901",
   "metadata": {},
   "outputs": [
    {
     "name": "stdout",
     "output_type": "stream",
     "text": [
      "Probabilità complessiva: 0.01607474898241158\n"
     ]
    }
   ],
   "source": [
    "import math\n",
    "\n",
    "def binomial_coefficient(n, k):\n",
    "  return math.comb(n, k)\n",
    "\n",
    "# Tasso di conversione del gruppo A (vecchio sito)\n",
    "p_A = 0.1\n",
    "# Tasso di conversione del gruppo B (nuovo sito)\n",
    "p_B = 0.12\n",
    "\n",
    "# Numero di visitatori al gruppo A\n",
    "n_A = 100\n",
    "# Numero di visitatori al gruppo B\n",
    "n_B = 100\n",
    "\n",
    "# Numero di acquisti effettuati al gruppo A\n",
    "k_A = 10\n",
    "# Numero di acquisti effettuati al gruppo B\n",
    "k_B = 12\n",
    "\n",
    "# Probabilità che k_A acquisti avvengano al gruppo A\n",
    "p_k_A = binomial_coefficient(n_A, k_A) * (p_A ** k_A) * ((1 - p_A) ** (n_A - k_A))\n",
    "\n",
    "# Probabilità che k_B acquisti avvengano al gruppo B\n",
    "p_k_B = binomial_coefficient(n_B, k_B) * (p_B ** k_B) * ((1 - p_B) ** (n_B - k_B))\n",
    "\n",
    "# Probabilità complessiva che entrambi gli eventi avvengano\n",
    "p_k_A_and_k_B = p_k_A * p_k_B\n",
    "\n",
    "print(\"Probabilità complessiva:\", p_k_A_and_k_B)\n"
   ]
  },
  {
   "cell_type": "markdown",
   "id": "17f9d0e0-6a02-43c2-b28b-49eeebe4a129",
   "metadata": {},
   "source": [
    "Questo script può essere utilizzato in un'azienda che vuole valutare l'impatto di un nuovo design del sito web sul tasso di conversione degli acquisti. Può essere utilizzato per prendere decisioni informate sulla scelta del design del sito web più efficace."
   ]
  },
  {
   "cell_type": "code",
   "execution_count": null,
   "id": "9ab8d632-dfea-4c2c-acf8-2d02d2327bc7",
   "metadata": {},
   "outputs": [],
   "source": []
  }
 ],
 "metadata": {
  "kernelspec": {
   "display_name": "Python 3 (ipykernel)",
   "language": "python",
   "name": "python3"
  },
  "language_info": {
   "codemirror_mode": {
    "name": "ipython",
    "version": 3
   },
   "file_extension": ".py",
   "mimetype": "text/x-python",
   "name": "python",
   "nbconvert_exporter": "python",
   "pygments_lexer": "ipython3",
   "version": "3.9.7"
  }
 },
 "nbformat": 4,
 "nbformat_minor": 5
}
