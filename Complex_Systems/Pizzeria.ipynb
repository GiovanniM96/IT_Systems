{
 "cells": [
  {
   "cell_type": "markdown",
   "id": "fe959bd7-5a5e-42c4-b0e2-bc9dc8e96bc2",
   "metadata": {},
   "source": [
    "# Pizzeria"
   ]
  },
  {
   "cell_type": "markdown",
   "id": "422ca7de-2a48-4c88-864b-dd9339478c79",
   "metadata": {},
   "source": [
    "Un esempio di un modello semplificato della tua pizzeria in Python"
   ]
  },
  {
   "cell_type": "code",
   "execution_count": 2,
   "id": "49e99e07-c3cf-421a-a7ee-3fe8c19b3be2",
   "metadata": {},
   "outputs": [],
   "source": [
    "# Definizione della classe Pizzeria\n",
    "class Pizzeria:\n",
    "    def __init__(self, n_pizze_ora, costo_materie_prime, prezzo_vendita):\n",
    "        self.n_pizze_ora = n_pizze_ora\n",
    "        self.costo_materie_prime = costo_materie_prime\n",
    "        self.prezzo_vendita = prezzo_vendita\n",
    "    \n",
    "    def calcola_ricavo(self):\n",
    "        return self.n_pizze_ora * self.prezzo_vendita\n",
    "  \n",
    "    def calcola_costo(self):\n",
    "        return self.n_pizze_ora * self.costo_materie_prime\n",
    "  \n",
    "    def calcola_profitto(self):\n",
    "        return self.calcola_ricavo() - self.calcola_costo()\n",
    "\n",
    "    # Definizione della classe RepartoPizza\n",
    "class RepartoPizza:\n",
    "    def __init__(self, n_pizze_ora, costo_ora):\n",
    "        self.n_pizze_ora = n_pizze_ora\n",
    "        self.costo_ora = costo_ora\n",
    "    \n",
    "    def calcola_costo(self):\n",
    "        return self.n_pizze_ora * self.costo_ora\n",
    "\n",
    "# Definizione della classe RepartoRicevimento\n",
    "class RepartoRicevimento:\n",
    "    def __init__(self, n_telefonate_ora, costo_ora):\n",
    "        self.n_telefonate_ora = n_telefonate_ora\n",
    "        self.costo_ora = costo_ora\n",
    "    \n",
    "    def calcola_costo(self):\n",
    "        return self.n_telefonate_ora * self.costo_ora\n",
    "    \n",
    "# Definizione della classe RepartoScorte\n",
    "class RepartoScorte:\n",
    "    def __init__(self, n_scorte, costo_scorta):\n",
    "        self.n_scorte = n_scorte\n",
    "        self.costo_scorta = costo_scorta\n",
    "    \n",
    "    def calcola_costo(self):\n",
    "        return self.n_scorte * self.costo_scorta\n",
    "\n",
    "# Creazione di un'istanza della classe Pizzeria\n",
    "pizzeria = Pizzeria(100, 5, 10)\n",
    "\n",
    "# Creazione di istanze delle classi RepartoPizza, RepartoRicevimento e RepartoScorte\n",
    "reparto_pizza = RepartoPizza(80, 20)\n",
    "reparto_ricevimento = RepartoRicevimento(50, 15)\n",
    "\n",
    "# Calcolo del costo totale delle tre classi\n",
    "reparto_scorte = RepartoScorte(200, 2)\n",
    "costo_totale = reparto_pizza.calcola_costo() + reparto_ricevimento.calcola_costo() + reparto_scorte.calcola_costo()\n"
   ]
  },
  {
   "cell_type": "markdown",
   "id": "4097c3b3-7b32-49b3-93a9-8fb177c42101",
   "metadata": {},
   "source": [
    "Queste classi sono state create per modellare i diversi reparti di una pizzeria. La classe \"Pizzeria\" rappresenta la pizzeria stessa, e tiene traccia del numero di pizze vendute ogni ora, del costo delle materie prime e del prezzo di vendita delle pizze. Le altre classi, \"RepartoPizza\", \"RepartoRicevimento\" e \"RepartoScorte\", rappresentano i diversi reparti all'interno della pizzeria e tengono traccia del costo associato a ciascun reparto.\n",
    "\n",
    "L'utilizzo di queste classi permette di organizzare e strutturare il codice in modo più leggibile e gestibile, rendendo più facile la modifica o l'aggiornamento dei dati in futuro."
   ]
  },
  {
   "cell_type": "code",
   "execution_count": null,
   "id": "926f3dbf-f192-4103-8883-89aa5bb6cf23",
   "metadata": {},
   "outputs": [],
   "source": []
  }
 ],
 "metadata": {
  "kernelspec": {
   "display_name": "Python 3 (ipykernel)",
   "language": "python",
   "name": "python3"
  },
  "language_info": {
   "codemirror_mode": {
    "name": "ipython",
    "version": 3
   },
   "file_extension": ".py",
   "mimetype": "text/x-python",
   "name": "python",
   "nbconvert_exporter": "python",
   "pygments_lexer": "ipython3",
   "version": "3.9.7"
  }
 },
 "nbformat": 4,
 "nbformat_minor": 5
}
